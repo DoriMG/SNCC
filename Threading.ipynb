{
 "cells": [
  {
   "cell_type": "markdown",
   "metadata": {},
   "source": [
    "# Threads"
   ]
  },
  {
   "cell_type": "code",
   "execution_count": null,
   "metadata": {},
   "outputs": [],
   "source": [
    "import _thread\n",
    "import threading\n",
    "import time"
   ]
  },
  {
   "cell_type": "markdown",
   "metadata": {},
   "source": [
    "### 1. What is a thread?\n",
    "A thread is a sequence of instructions executed one by one. \n",
    "\n",
    "In the example below you see a test_function. This function counts to 5 and shows the time from the start of the run. The delay shows how long it has to wait between prints. \n",
    "\n",
    "Two test_functions are executed one after another, one with delay 1s, one with delay 2s. In total this will thus take 5x1 + 5x2 = 15s to run. The functions are executed in sequence, and are thus all executed on one thread. "
   ]
  },
  {
   "cell_type": "code",
   "execution_count": null,
   "metadata": {},
   "outputs": [],
   "source": [
    "def test_function(name, delay, starttime):\n",
    "    for count in range(5):\n",
    "        time.sleep(delay)\n",
    "        print(\"%s: %s\" % (name, time.time()-starttime))\n",
    "\n",
    "start = time.time()\n",
    "test_function('Test 1', 1, start)\n",
    "test_function('Test 2', 2, start)\n"
   ]
  },
  {
   "cell_type": "markdown",
   "metadata": {},
   "source": [
    "### Implementation of thread\n",
    "The code below shows the implementation of threading using the thread module (this is a Python 2 module, recommended now is the threading module). The function 'start_new_thread' starts a new thread and takes as input the function that should be executed on that thread, as well as the inputs that should be given to that function. \n",
    "Look at the output. How long does it take to execute both functions? Is this what you expected?"
   ]
  },
  {
   "cell_type": "code",
   "execution_count": null,
   "metadata": {},
   "outputs": [],
   "source": [
    "start = time.time()\n",
    "_thread.start_new_thread(test_function,('Test 1', 1, start))\n",
    "_thread.start_new_thread(test_function,('Test 2', 2, start))"
   ]
  },
  {
   "cell_type": "markdown",
   "metadata": {},
   "source": [
    "### Thread with caution\n",
    "Threads are able to share resources. When two threads are modifying the same variable concurrently, you might get results you didn't expect. To show this, we're going to define two new functions. The first takes a global variable (i) and adds one to it on each iteration. The seconds takes a global variable (i) and multiplies it by 2 on each iteration. \n",
    "We're going to run these function in sequence. What will the result be? Is this always the same results?"
   ]
  },
  {
   "cell_type": "code",
   "execution_count": null,
   "metadata": {},
   "outputs": [],
   "source": [
    "global i\n",
    "i = 0\n",
    "\n",
    "def add_function(name):\n",
    "    for count in range(5):\n",
    "        global i\n",
    "        i = i+1\n",
    "        time.sleep(1)\n",
    "        print(\"%s: %s\" % (name, i))\n",
    "\n",
    "def multiple_function(name):\n",
    "    for count in range(5):\n",
    "        global i\n",
    "        i = i*2\n",
    "        time.sleep(1)\n",
    "        print(\"%s: %s\" % (name, i))\n",
    "\n",
    "\n",
    "add_function('Add')\n",
    "multiple_function('Multiply')"
   ]
  },
  {
   "cell_type": "markdown",
   "metadata": {},
   "source": [
    "The final value of i in the above code will always be 160. However, when we try to use threading to run these two functions concurrently, the answer will be different. Try running the code below a few times and see what the result is. Is the result the same for each run? "
   ]
  },
  {
   "cell_type": "code",
   "execution_count": null,
   "metadata": {},
   "outputs": [],
   "source": [
    "i = 0\n",
    "_thread.start_new_thread(add_function,('Add',))\n",
    "_thread.start_new_thread(multiple_function,('Multiply',))"
   ]
  },
  {
   "cell_type": "markdown",
   "metadata": {},
   "source": [
    "To combat the above problem, you can use the join function. This causes the main thread to wait until the other thread is done executing. You can also use a lock. "
   ]
  },
  {
   "cell_type": "markdown",
   "metadata": {},
   "source": [
    "### Join function\n",
    "If you want your code to wait to finish executing one thread before executing the next, you can use the 'join' function. This is not available in the thread module, so the next example will use the threading module. To use this, we have to write a Class. If you are not familiar with OO programming, don't worry about the exact implementation of the threads.\n",
    "\n",
    "The implementation below does the same as the code above. It starts two threads, one running the add function, the other running the multiply function. If you run it multiple times, you will notice this implementation is slightly more reliable (which is why it is advised), but will still not produce the same answer as the serial implementation."
   ]
  },
  {
   "cell_type": "code",
   "execution_count": null,
   "metadata": {},
   "outputs": [],
   "source": [
    "class myThread (threading.Thread):\n",
    "    def __init__(self, name, func):\n",
    "        threading.Thread.__init__(self)\n",
    "        self.name = name\n",
    "        self.func = func\n",
    "    def run(self):\n",
    "        print(\"Starting \" + self.name)\n",
    "         # Get lock to synchronize threads\n",
    "        if self.func == 1:\n",
    "            add_function(self.name)\n",
    "        else:\n",
    "            multiple_function(self.name)\n",
    "            \n",
    "global i\n",
    "i = 0\n",
    "\n",
    "# Create threads        \n",
    "thread1 = myThread('Add',1)\n",
    "thread2 = myThread('Multiply',2)\n",
    "\n",
    "# Start new Threads\n",
    "thread1.start()\n",
    "thread2.start()\n"
   ]
  },
  {
   "cell_type": "markdown",
   "metadata": {},
   "source": [
    "We are now going to use the join function. This makes sure thread 2 doesn't run until thread 1 has finished running. The description of the join function is:\n",
    "\n",
    "*Wait until the thread terminates. This blocks the calling thread until the thread whose join() method is called terminates – either normally or through an unhandled exception – or until the optional timeout occurs.*\n",
    "\n",
    "Run the code below. What answer do you get?"
   ]
  },
  {
   "cell_type": "code",
   "execution_count": null,
   "metadata": {},
   "outputs": [],
   "source": [
    "global i\n",
    "i = 0\n",
    "\n",
    "# Create threads        \n",
    "thread1 = myThread('Add',1)\n",
    "thread2 = myThread('Multiply',2)\n",
    "\n",
    "# Start new Threads\n",
    "thread1.start()\n",
    "thread1.join()\n",
    "thread2.start()"
   ]
  },
  {
   "cell_type": "markdown",
   "metadata": {},
   "source": [
    "For our last example we're going to change to change the code slighly to have an extra function. This function is called infinity_add, and will be an infinite loop. You will notice that if we use the join function, thread 2 will never start running, because thread 1 is in an infinite loop. "
   ]
  },
  {
   "cell_type": "code",
   "execution_count": null,
   "metadata": {},
   "outputs": [],
   "source": [
    "def infinity_add(name):\n",
    "    while True:\n",
    "        global i\n",
    "        i = i+1\n",
    "        time.sleep(1)\n",
    "        print(\"%s: %s\" % (name, i))\n",
    "\n",
    "class myInfThread (threading.Thread):\n",
    "    def __init__(self, name, func):\n",
    "        threading.Thread.__init__(self)\n",
    "        self.name = name\n",
    "        self.func = func\n",
    "    def run(self):\n",
    "        print(\"Starting \" + self.name)\n",
    "         # Get lock to synchronize threads\n",
    "        if self.func == 1:\n",
    "            infinity_add(self.name)\n",
    "        else:\n",
    "            print(\"I give some vital information\")\n",
    "            "
   ]
  },
  {
   "cell_type": "code",
   "execution_count": null,
   "metadata": {},
   "outputs": [],
   "source": [
    "## Don't run this, will get stuck in infinite loop!\n",
    "global i\n",
    "i = 0\n",
    "\n",
    "# Create threads        \n",
    "thread1 = myInfThread('Add',1)\n",
    "thread2 = myInfThread('Multiply',2)\n",
    "\n",
    "# Start new Threads\n",
    "thread1.start()\n",
    "thread1.join()\n",
    "thread2.start()"
   ]
  },
  {
   "cell_type": "markdown",
   "metadata": {},
   "source": [
    "Though the infinite loop was fabricated in this case, you can imagine it might happen on accident in a GUI, or when asking users for input. For this we can use a timeout. We basically will force the thread to join after a certain amount of time. You can just input the time in the join function as shown below. Note that the first thread will still keep running, but the second thread now did run as well, giving you the vital information you would have otherwise not gotten"
   ]
  },
  {
   "cell_type": "code",
   "execution_count": null,
   "metadata": {},
   "outputs": [],
   "source": [
    "global i\n",
    "i = 0\n",
    "\n",
    "# Create threads        \n",
    "thread1 = myInfThread('Add',1)\n",
    "thread2 = myInfThread('Multiply',2)\n",
    "\n",
    "# Start new Threads\n",
    "thread1.start()\n",
    "thread1.join(5)\n",
    "thread2.start()\n"
   ]
  },
  {
   "cell_type": "code",
   "execution_count": null,
   "metadata": {},
   "outputs": [],
   "source": []
  }
 ],
 "metadata": {
  "kernelspec": {
   "display_name": "Python 3",
   "language": "python",
   "name": "python3"
  },
  "language_info": {
   "codemirror_mode": {
    "name": "ipython",
    "version": 3
   },
   "file_extension": ".py",
   "mimetype": "text/x-python",
   "name": "python",
   "nbconvert_exporter": "python",
   "pygments_lexer": "ipython3",
   "version": "3.7.0"
  }
 },
 "nbformat": 4,
 "nbformat_minor": 2
}
